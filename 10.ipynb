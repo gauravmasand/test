{
  "nbformat": 4,
  "nbformat_minor": 0,
  "metadata": {
    "colab": {
      "provenance": []
    },
    "kernelspec": {
      "name": "python3",
      "display_name": "Python 3"
    },
    "language_info": {
      "name": "python"
    }
  },
  "cells": [
    {
      "cell_type": "code",
      "execution_count": null,
      "metadata": {
        "id": "EvppPGdpnFRF"
      },
      "outputs": [],
      "source": [
        "import numpy as np\n"
      ]
    },
    {
      "cell_type": "code",
      "source": [
        "class HopfieldNetwork:\n",
        "    def __init__(self, size):\n",
        "        self.size = size\n",
        "        self.weights = np.zeros((size, size))\n",
        "\n",
        "    def train(self, patterns):\n",
        "        for p in patterns:\n",
        "            p = np.array(p)\n",
        "            p = p.reshape(self.size, 1)\n",
        "            self.weights += np.dot(p, p.T)\n",
        "        np.fill_diagonal(self.weights, 0)  # No self-connections\n",
        "        self.weights /= len(patterns)      # Normalize (optional)\n",
        "\n",
        "    def recall(self, pattern, steps=5):\n",
        "        p = np.array(pattern)\n",
        "        for _ in range(steps):\n",
        "            for i in range(self.size):\n",
        "                raw = np.dot(self.weights[i], p)\n",
        "                p[i] = 1 if raw >= 0 else -1\n",
        "        return p"
      ],
      "metadata": {
        "id": "zkeG5vkInK31"
      },
      "execution_count": null,
      "outputs": []
    },
    {
      "cell_type": "code",
      "source": [
        "# Convert binary {0, 1} to bipolar {-1, +1}\n",
        "def to_bipolar(vector):\n",
        "    return [1 if x == 1 else -1 for x in vector]"
      ],
      "metadata": {
        "id": "ICtbQP0fnNaN"
      },
      "execution_count": null,
      "outputs": []
    },
    {
      "cell_type": "code",
      "source": [
        "# Example: 4 binary patterns of length 6\n",
        "stored_patterns = [\n",
        "    [1, 0, 1, 0, 1, 0],\n",
        "    [0, 1, 0, 1, 0, 1],\n",
        "    [1, 1, 0, 0, 1, 1],\n",
        "    [0, 0, 1, 1, 0, 0]\n",
        "]"
      ],
      "metadata": {
        "id": "8CXuZv9RnPpz"
      },
      "execution_count": null,
      "outputs": []
    },
    {
      "cell_type": "code",
      "source": [
        "\n",
        "# Convert to bipolar format\n",
        "bipolar_patterns = [to_bipolar(p) for p in stored_patterns]"
      ],
      "metadata": {
        "id": "ElIdIW86nSzX"
      },
      "execution_count": null,
      "outputs": []
    },
    {
      "cell_type": "code",
      "source": [
        "# Create and train Hopfield network\n",
        "hn = HopfieldNetwork(size=6)\n",
        "hn.train(bipolar_patterns)"
      ],
      "metadata": {
        "id": "VTUP2irtnb05"
      },
      "execution_count": null,
      "outputs": []
    },
    {
      "cell_type": "code",
      "source": [
        "# Try recalling each pattern\n",
        "print(\"Recalled Patterns:\")\n",
        "for idx, pattern in enumerate(bipolar_patterns):\n",
        "    recalled = hn.recall(pattern.copy())\n",
        "    print(f\"Pattern {idx + 1}: {recalled}\")"
      ],
      "metadata": {
        "id": "8Tzbohldnd2r",
        "outputId": "a7281e27-8ee7-42a9-b0a3-e78c3fd2ae6b",
        "colab": {
          "base_uri": "https://localhost:8080/"
        }
      },
      "execution_count": null,
      "outputs": [
        {
          "output_type": "stream",
          "name": "stdout",
          "text": [
            "Recalled Patterns:\n",
            "Pattern 1: [ 1 -1  1 -1  1 -1]\n",
            "Pattern 2: [-1  1 -1  1 -1  1]\n",
            "Pattern 3: [ 1  1 -1 -1  1  1]\n",
            "Pattern 4: [-1 -1  1  1 -1 -1]\n"
          ]
        }
      ]
    },
    {
      "cell_type": "code",
      "source": [],
      "metadata": {
        "id": "jle39Al6nf-E"
      },
      "execution_count": null,
      "outputs": []
    }
  ]
}