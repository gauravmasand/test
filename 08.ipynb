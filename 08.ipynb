{
  "cells": [
    {
      "cell_type": "code",
      "execution_count": null,
      "metadata": {
        "id": "Qz-2RHTslBwL"
      },
      "outputs": [],
      "source": [
        "# Practical 8: Write a python program to illustrate ART neural network.\n",
        "import numpy as np\n"
      ]
    },
    {
      "cell_type": "code",
      "execution_count": null,
      "metadata": {
        "id": "1N7-3tgOlLe1"
      },
      "outputs": [],
      "source": [
        "class ART1:\n",
        "    def __init__(self, num_features, num_categories, vigilance=0.8):\n",
        "        self.num_features = num_features      # Size of input vector\n",
        "        self.num_categories = num_categories  # Max number of categories\n",
        "        self.vigilance = vigilance            # Vigilance threshold\n",
        "        self.b = num_features + 1             # Choice parameter\n",
        "\n",
        "        # Initialize weights\n",
        "        self.bottom_up = np.ones((num_categories, num_features)) / (1 + num_features)\n",
        "        self.top_down = np.ones((num_categories, num_features))\n",
        "\n",
        "    def train(self, patterns):\n",
        "        for input_vector in patterns:\n",
        "            input_vector = np.array(input_vector)\n",
        "            # Calculate activations\n",
        "            activations = np.sum(np.minimum(self.bottom_up, input_vector), axis=1)\n",
        "            activations /= (self.b + np.sum(self.bottom_up, axis=1))\n",
        "\n",
        "            # Sort by highest activation\n",
        "            sorted_indices = np.argsort(-activations)\n",
        "\n",
        "            for j in sorted_indices:\n",
        "                # Predictive match (top-down expectation)\n",
        "                match = np.sum(np.minimum(input_vector, self.top_down[j])) / np.sum(input_vector)\n",
        "\n",
        "                # Check vigilance\n",
        "                if match >= self.vigilance:\n",
        "                    # Resonance — update weights\n",
        "                    self.bottom_up[j] = (input_vector * self.top_down[j]) / (0.5 + np.sum(input_vector * self.top_down[j]))\n",
        "                    self.top_down[j] = input_vector * self.top_down[j]\n",
        "                    print(f\"Pattern {input_vector.tolist()} --> Category {j}\")\n",
        "                    break\n",
        "            else:\n",
        "                print(f\"Pattern {input_vector.tolist()} --> No category found (vigilance too high)\")"
      ]
    },
    {
      "cell_type": "code",
      "execution_count": null,
      "metadata": {
        "id": "zoFjSaMulPY9"
      },
      "outputs": [],
      "source": [
        "# Example input patterns (binary)\n",
        "patterns = [\n",
        "    [1, 0, 0, 1, 0],\n",
        "    [1, 1, 0, 1, 0],\n",
        "    [0, 0, 1, 0, 1],\n",
        "    [0, 1, 1, 0, 1],\n",
        "    [1, 0, 0, 1, 1],\n",
        "]"
      ]
    },
    {
      "cell_type": "code",
      "execution_count": null,
      "metadata": {
        "id": "L---w3PUlR3d"
      },
      "outputs": [],
      "source": [
        "# Create ART1 network\n",
        "art = ART1(num_features=5, num_categories=5, vigilance=0.6)"
      ]
    },
    {
      "cell_type": "code",
      "execution_count": null,
      "metadata": {
        "colab": {
          "base_uri": "https://localhost:8080/"
        },
        "id": "OoVWz4NjlT6Q",
        "outputId": "71af9af9-6a0f-4c51-beb6-0d507e63cf79"
      },
      "outputs": [
        {
          "name": "stdout",
          "output_type": "stream",
          "text": [
            "Pattern [1, 0, 0, 1, 0] --> Category 0\n",
            "Pattern [1, 1, 0, 1, 0] --> Category 0\n",
            "Pattern [0, 0, 1, 0, 1] --> Category 1\n",
            "Pattern [0, 1, 1, 0, 1] --> Category 1\n",
            "Pattern [1, 0, 0, 1, 1] --> Category 0\n"
          ]
        }
      ],
      "source": [
        "\n",
        "# Train the network\n",
        "art.train(patterns)"
      ]
    },
    {
      "cell_type": "code",
      "execution_count": null,
      "metadata": {
        "id": "xHQj7De6lVmH"
      },
      "outputs": [],
      "source": []
    }
  ],
  "metadata": {
    "colab": {
      "provenance": []
    },
    "kernelspec": {
      "display_name": "Python 3",
      "name": "python3"
    },
    "language_info": {
      "name": "python"
    }
  },
  "nbformat": 4,
  "nbformat_minor": 0
}
