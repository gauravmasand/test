{
  "nbformat": 4,
  "nbformat_minor": 0,
  "metadata": {
    "colab": {
      "provenance": []
    },
    "kernelspec": {
      "name": "python3",
      "display_name": "Python 3"
    },
    "language_info": {
      "name": "python"
    }
  },
  "cells": [
    {
      "cell_type": "code",
      "execution_count": null,
      "metadata": {
        "id": "GvFrYyl0bbN6"
      },
      "outputs": [],
      "source": [
        "import numpy as np\n",
        "import matplotlib.pyplot as plt\n",
        "from matplotlib.colors import ListedColormap\n"
      ]
    },
    {
      "cell_type": "code",
      "source": [
        "# Dataset: OR logic gate\n",
        "X = np.array([\n",
        "    [0, 0],\n",
        "    [0, 1],\n",
        "    [1, 0],\n",
        "    [1, 1]\n",
        "])\n",
        "y = np.array([0, 1, 1, 1])"
      ],
      "metadata": {
        "id": "Of_Ef8D6beWi"
      },
      "execution_count": null,
      "outputs": []
    },
    {
      "cell_type": "code",
      "source": [
        "# Updated Perceptron class with `epoch` and print statements\n",
        "class Perceptron:\n",
        "    def __init__(self, learning_rate=0.1, n_epochs=10):\n",
        "        self.lr = learning_rate\n",
        "        self.n_epochs = n_epochs\n",
        "        self.activation_func = self._unit_step_func\n",
        "        self.weights = None\n",
        "        self.bias = None\n",
        "\n",
        "    def _unit_step_func(self, x):\n",
        "        return np.where(x >= 0, 1, 0)\n",
        "\n",
        "    def fit(self, X, y):\n",
        "        n_samples, n_features = X.shape\n",
        "        self.weights = np.zeros(n_features)\n",
        "        self.bias = 0\n",
        "\n",
        "        for epoch in range(self.n_epochs):\n",
        "            print(f\"\\nEpoch {epoch+1}/{self.n_epochs}\")\n",
        "            for idx, x_i in enumerate(X):\n",
        "                linear_output = np.dot(x_i, self.weights) + self.bias\n",
        "                y_pred = self.activation_func(linear_output)\n",
        "                update = self.lr * (y[idx] - y_pred)\n",
        "                self.weights += update * x_i\n",
        "                self.bias += update\n",
        "                print(f\"Sample {x_i}, Target: {y[idx]}, Predicted: {y_pred}, Update: {update}\")\n",
        "            print(f\"Weights: {self.weights}, Bias: {self.bias}\")\n",
        "\n",
        "    def predict(self, X):\n",
        "        linear_output = np.dot(X, self.weights) + self.bias\n",
        "        return self.activation_func(linear_output)"
      ],
      "metadata": {
        "id": "Z59pV72mbgd4"
      },
      "execution_count": null,
      "outputs": []
    },
    {
      "cell_type": "code",
      "source": [
        "# Train perceptron\n",
        "p = Perceptron()\n",
        "p.fit(X, y)"
      ],
      "metadata": {
        "colab": {
          "base_uri": "https://localhost:8080/"
        },
        "id": "p4p2UYyHbqP5",
        "outputId": "b95e793b-879d-46e1-858e-dfa42c5d4cbb"
      },
      "execution_count": null,
      "outputs": [
        {
          "output_type": "stream",
          "name": "stdout",
          "text": [
            "\n",
            "Epoch 1/10\n",
            "Sample [0 0], Target: 0, Predicted: 1, Update: -0.1\n",
            "Sample [0 1], Target: 1, Predicted: 0, Update: 0.1\n",
            "Sample [1 0], Target: 1, Predicted: 1, Update: 0.0\n",
            "Sample [1 1], Target: 1, Predicted: 1, Update: 0.0\n",
            "Weights: [0.  0.1], Bias: 0.0\n",
            "\n",
            "Epoch 2/10\n",
            "Sample [0 0], Target: 0, Predicted: 1, Update: -0.1\n",
            "Sample [0 1], Target: 1, Predicted: 1, Update: 0.0\n",
            "Sample [1 0], Target: 1, Predicted: 0, Update: 0.1\n",
            "Sample [1 1], Target: 1, Predicted: 1, Update: 0.0\n",
            "Weights: [0.1 0.1], Bias: 0.0\n",
            "\n",
            "Epoch 3/10\n",
            "Sample [0 0], Target: 0, Predicted: 1, Update: -0.1\n",
            "Sample [0 1], Target: 1, Predicted: 1, Update: 0.0\n",
            "Sample [1 0], Target: 1, Predicted: 1, Update: 0.0\n",
            "Sample [1 1], Target: 1, Predicted: 1, Update: 0.0\n",
            "Weights: [0.1 0.1], Bias: -0.1\n",
            "\n",
            "Epoch 4/10\n",
            "Sample [0 0], Target: 0, Predicted: 0, Update: 0.0\n",
            "Sample [0 1], Target: 1, Predicted: 1, Update: 0.0\n",
            "Sample [1 0], Target: 1, Predicted: 1, Update: 0.0\n",
            "Sample [1 1], Target: 1, Predicted: 1, Update: 0.0\n",
            "Weights: [0.1 0.1], Bias: -0.1\n",
            "\n",
            "Epoch 5/10\n",
            "Sample [0 0], Target: 0, Predicted: 0, Update: 0.0\n",
            "Sample [0 1], Target: 1, Predicted: 1, Update: 0.0\n",
            "Sample [1 0], Target: 1, Predicted: 1, Update: 0.0\n",
            "Sample [1 1], Target: 1, Predicted: 1, Update: 0.0\n",
            "Weights: [0.1 0.1], Bias: -0.1\n",
            "\n",
            "Epoch 6/10\n",
            "Sample [0 0], Target: 0, Predicted: 0, Update: 0.0\n",
            "Sample [0 1], Target: 1, Predicted: 1, Update: 0.0\n",
            "Sample [1 0], Target: 1, Predicted: 1, Update: 0.0\n",
            "Sample [1 1], Target: 1, Predicted: 1, Update: 0.0\n",
            "Weights: [0.1 0.1], Bias: -0.1\n",
            "\n",
            "Epoch 7/10\n",
            "Sample [0 0], Target: 0, Predicted: 0, Update: 0.0\n",
            "Sample [0 1], Target: 1, Predicted: 1, Update: 0.0\n",
            "Sample [1 0], Target: 1, Predicted: 1, Update: 0.0\n",
            "Sample [1 1], Target: 1, Predicted: 1, Update: 0.0\n",
            "Weights: [0.1 0.1], Bias: -0.1\n",
            "\n",
            "Epoch 8/10\n",
            "Sample [0 0], Target: 0, Predicted: 0, Update: 0.0\n",
            "Sample [0 1], Target: 1, Predicted: 1, Update: 0.0\n",
            "Sample [1 0], Target: 1, Predicted: 1, Update: 0.0\n",
            "Sample [1 1], Target: 1, Predicted: 1, Update: 0.0\n",
            "Weights: [0.1 0.1], Bias: -0.1\n",
            "\n",
            "Epoch 9/10\n",
            "Sample [0 0], Target: 0, Predicted: 0, Update: 0.0\n",
            "Sample [0 1], Target: 1, Predicted: 1, Update: 0.0\n",
            "Sample [1 0], Target: 1, Predicted: 1, Update: 0.0\n",
            "Sample [1 1], Target: 1, Predicted: 1, Update: 0.0\n",
            "Weights: [0.1 0.1], Bias: -0.1\n",
            "\n",
            "Epoch 10/10\n",
            "Sample [0 0], Target: 0, Predicted: 0, Update: 0.0\n",
            "Sample [0 1], Target: 1, Predicted: 1, Update: 0.0\n",
            "Sample [1 0], Target: 1, Predicted: 1, Update: 0.0\n",
            "Sample [1 1], Target: 1, Predicted: 1, Update: 0.0\n",
            "Weights: [0.1 0.1], Bias: -0.1\n"
          ]
        }
      ]
    },
    {
      "cell_type": "code",
      "source": [
        "# Plotting decision regions\n",
        "def plot_decision_regions(X, y, model):\n",
        "    cmap = ListedColormap(['#FFAAAA', '#AAFFAA'])\n",
        "    x1_min, x1_max = X[:, 0].min() - 1, X[:, 0].max() + 1\n",
        "    x2_min, x2_max = X[:, 1].min() - 1, X[:, 1].max() + 1\n",
        "    xx1, xx2 = np.meshgrid(np.arange(x1_min, x1_max, 0.01),\n",
        "                           np.arange(x2_min, x2_max, 0.01))\n",
        "    grid = np.c_[xx1.ravel(), xx2.ravel()]\n",
        "    predictions = model.predict(grid).reshape(xx1.shape)\n",
        "\n",
        "    plt.contourf(xx1, xx2, predictions, alpha=0.3, cmap=cmap)\n",
        "    plt.scatter(X[:, 0], X[:, 1], c=y, cmap=cmap, edgecolor='black')\n",
        "    plt.title(\"Perceptron Decision Regions (OR gate)\")\n",
        "    plt.xlabel(\"x1\")\n",
        "    plt.ylabel(\"x2\")\n",
        "    plt.grid(True)\n",
        "    plt.show()"
      ],
      "metadata": {
        "id": "4jhoKcVKbsVN"
      },
      "execution_count": null,
      "outputs": []
    },
    {
      "cell_type": "code",
      "source": [
        "plot_decision_regions(X, y, p)\n"
      ],
      "metadata": {
        "colab": {
          "base_uri": "https://localhost:8080/",
          "height": 472
        },
        "id": "Nj-nCmdSbxjC",
        "outputId": "09a7df2a-80a9-42e3-aebb-c7596c40a6dd"
      },
      "execution_count": null,
      "outputs": [
        {
          "output_type": "display_data",
          "data": {
            "text/plain": [
              "<Figure size 640x480 with 1 Axes>"
            ],
            "image/png": "[encoded data removed]"
          },
          "metadata": {}
        }
      ]
    },
    {
      "cell_type": "code",
      "source": [],
      "metadata": {
        "id": "DzsxNaUAbzdA"
      },
      "execution_count": null,
      "outputs": []
    }
  ]
}