{
  "nbformat": 4,
  "nbformat_minor": 0,
  "metadata": {
    "colab": {
      "provenance": [],
      "authorship_tag": "ABX9TyPUXDmwzh7lDwpuugDb3EPZ",
      "include_colab_link": true
    },
    "kernelspec": {
      "name": "python3",
      "display_name": "Python 3"
    },
    "language_info": {
      "name": "python"
    }
  },
  "cells": [
    {
      "cell_type": "markdown",
      "metadata": {
        "id": "view-in-github",
        "colab_type": "text"
      },
      "source": [
        "<a href=\"https://colab.research.google.com/github/Sreys10/ann/blob/main/03.ipynb\" target=\"_parent\"><img src=\"https://colab.research.google.com/assets/colab-badge.svg\" alt=\"Open In Colab\"/></a>"
      ]
    },
    {
      "cell_type": "code",
      "execution_count": 1,
      "metadata": {
        "id": "cPtN43tXaF5I"
      },
      "outputs": [],
      "source": [
        "import numpy as np\n"
      ]
    },
    {
      "cell_type": "code",
      "source": [
        "# Define the Perceptron class\n",
        "class Perceptron:\n",
        "    def __init__(self, input_size):\n",
        "        self.weights = np.random.rand(input_size)\n",
        "        self.bias = np.random.rand()\n",
        "\n",
        "    def sigmoid(self, x):\n",
        "        return 1 / (1 + np.exp(-x))\n",
        "\n",
        "    def predict(self, inputs):\n",
        "        summation = np.dot(inputs, self.weights) + self.bias\n",
        "        return self.sigmoid(summation)\n",
        "\n",
        "    def train(self, inputs, labels, epochs=10000, learning_rate=0.1):\n",
        "        for epoch in range(epochs):\n",
        "            for i in range(len(inputs)):\n",
        "                prediction = self.predict(inputs[i])\n",
        "                error = labels[i] - prediction\n",
        "                self.weights += learning_rate * error * inputs[i]\n",
        "                self.bias += learning_rate * error\n",
        "\n"
      ],
      "metadata": {
        "id": "V_OFpIMidUJ7"
      },
      "execution_count": 2,
      "outputs": []
    },
    {
      "cell_type": "code",
      "source": [
        "# Prepare the dataset\n",
        "# ASCII values for '0' to '9' are 48 to 57\n",
        "ascii_numbers = list(range(48, 58))\n",
        "\n",
        "# Represent inputs as binary (7-bit representation)\n",
        "inputs = np.array([[int(bit) for bit in format(num, '07b')] for num in ascii_numbers])\n",
        "\n",
        "# Labels: 0 for even, 1 for odd\n",
        "labels = np.array([0 if num % 2 == 0 else 1 for num in ascii_numbers])\n",
        "\n",
        "# Create and train the Perceptron\n",
        "perceptron = Perceptron(input_size=7)  # 7 bits for binary representation\n",
        "perceptron.train(inputs, labels, epochs=10000, learning_rate=0.1)\n",
        "\n",
        "# Test the Perceptron\n",
        "test_numbers = list(range(48, 58))  # Testing on 0-9\n",
        "for num in test_numbers:\n",
        "    binary_input = np.array([int(bit) for bit in format(num, '07b')])\n",
        "    prediction = perceptron.predict(binary_input)\n",
        "    print(f\"ASCII {num} ('{chr(num)}') is {'odd' if prediction > 0.5 else 'even'} (prediction: {prediction:.4f})\")"
      ],
      "metadata": {
        "colab": {
          "base_uri": "https://localhost:8080/"
        },
        "id": "ZyEqK_mUdl5T",
        "outputId": "98f64153-ef22-4531-8fba-27c848098736"
      },
      "execution_count": 3,
      "outputs": [
        {
          "output_type": "stream",
          "name": "stdout",
          "text": [
            "ASCII 48 ('0') is even (prediction: 0.0006)\n",
            "ASCII 49 ('1') is odd (prediction: 0.9997)\n",
            "ASCII 50 ('2') is even (prediction: 0.0005)\n",
            "ASCII 51 ('3') is odd (prediction: 0.9996)\n",
            "ASCII 52 ('4') is even (prediction: 0.0005)\n",
            "ASCII 53 ('5') is odd (prediction: 0.9996)\n",
            "ASCII 54 ('6') is even (prediction: 0.0004)\n",
            "ASCII 55 ('7') is odd (prediction: 0.9995)\n",
            "ASCII 56 ('8') is even (prediction: 0.0004)\n",
            "ASCII 57 ('9') is odd (prediction: 0.9996)\n"
          ]
        }
      ]
    },
    {
      "cell_type": "code",
      "source": [],
      "metadata": {
        "id": "gjS6_bYXdnY-"
      },
      "execution_count": null,
      "outputs": []
    }
  ]
}