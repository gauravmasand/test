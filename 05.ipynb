{
  "cells": [
    {
      "cell_type": "code",
      "execution_count": null,
      "metadata": {
        "id": "Msp9OxbncD3_"
      },
      "outputs": [],
      "source": [
        "# Practical 5: Write a python Program for Bidirectional Associative Memory with two pairs of vectors.\n",
        "#import lib\n",
        "import numpy as np\n"
      ]
    },
    {
      "cell_type": "code",
      "execution_count": null,
      "metadata": {
        "id": "8GrhAsMidFKr"
      },
      "outputs": [],
      "source": [
        "#def two pairs of vectors\n",
        "x1= np.array([1,1,1,-1])\n",
        "y1= np.array([1,-1])\n",
        "\n",
        "x2= np.array([-1,-1,1,1])\n",
        "y2= np.array([-1, 1])"
      ]
    },
    {
      "cell_type": "code",
      "execution_count": null,
      "metadata": {
        "id": "mD-_0gD0dgdP"
      },
      "outputs": [],
      "source": [
        "#compute the weight matrix\n",
        "W= np.outer(y1, x1) + np.outer(y2,x2)\n",
        "\n",
        "W_T= W.T  #transpose for bidirectional mapping\n"
      ]
    },
    {
      "cell_type": "code",
      "execution_count": null,
      "metadata": {
        "id": "NUKV8jhPd1Mi"
      },
      "outputs": [],
      "source": [
        "#def bam function\n",
        "def bam_x_to_y(x):\n",
        "    y = np.dot(W, x)\n",
        "    return np.where(y >= 0, 1, -1)"
      ]
    },
    {
      "cell_type": "code",
      "execution_count": null,
      "metadata": {
        "id": "aS6QZ8S3ePAr"
      },
      "outputs": [],
      "source": [
        "def bam_y_to_x(y):\n",
        "    x = np.dot(W_T, y)\n",
        "    return np.where(x >= 0, 1, -1)"
      ]
    },
    {
      "cell_type": "code",
      "execution_count": null,
      "metadata": {
        "id": "nXehpsdCewNj"
      },
      "outputs": [],
      "source": [
        "# test BAM with inputs\n",
        "x_test = np.array([1, -1, -1, -1])"
      ]
    },
    {
      "cell_type": "code",
      "execution_count": null,
      "metadata": {
        "id": "J_WKPRsRexu-"
      },
      "outputs": [],
      "source": [
        "y_test = bam_x_to_y(x_test)\n",
        "x_reconstructed = bam_y_to_x(y_test)"
      ]
    },
    {
      "cell_type": "code",
      "execution_count": null,
      "metadata": {
        "colab": {
          "base_uri": "https://localhost:8080/"
        },
        "id": "4joSXPeUez0j",
        "outputId": "620cabb3-77d4-4b58-e15b-9b5b55897dfd"
      },
      "outputs": [
        {
          "name": "stdout",
          "output_type": "stream",
          "text": [
            "Input x: [ 1 -1 -1 -1]\n",
            "Output y: [ 1 -1]\n",
            "Reconstructed x: [ 1  1  1 -1]\n"
          ]
        }
      ],
      "source": [
        "# print output\n",
        "print(\"Input x:\", x_test)\n",
        "print(\"Output y:\", y_test)\n",
        "print(\"Reconstructed x:\", x_reconstructed)"
      ]
    },
    {
      "cell_type": "code",
      "execution_count": null,
      "metadata": {
        "id": "2X3dtMhTe1jB"
      },
      "outputs": [],
      "source": []
    }
  ],
  "metadata": {
    "colab": {
      "provenance": []
    },
    "kernelspec": {
      "display_name": "Python 3",
      "name": "python3"
    },
    "language_info": {
      "name": "python"
    }
  },
  "nbformat": 4,
  "nbformat_minor": 0
}
