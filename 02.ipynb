{
  "nbformat": 4,
  "nbformat_minor": 0,
  "metadata": {
    "colab": {
      "provenance": [],
      "authorship_tag": "ABX9TyPtgTbGWA8TH6FjIf2ao0kE",
      "include_colab_link": true
    },
    "kernelspec": {
      "name": "python3",
      "display_name": "Python 3"
    },
    "language_info": {
      "name": "python"
    }
  },
  "cells": [
    {
      "cell_type": "markdown",
      "metadata": {
        "id": "view-in-github",
        "colab_type": "text"
      },
      "source": [
        "<a href=\"https://colab.research.google.com/github/Sreys10/ann/blob/main/02.ipynb\" target=\"_parent\"><img src=\"https://colab.research.google.com/assets/colab-badge.svg\" alt=\"Open In Colab\"/></a>"
      ]
    },
    {
      "cell_type": "code",
      "execution_count": 1,
      "metadata": {
        "id": "k97yiUYTWkEh"
      },
      "outputs": [],
      "source": [
        "# Practical : 2\n",
        "import numpy as np\n"
      ]
    },
    {
      "cell_type": "code",
      "source": [
        "def mcCulloch_pitts_AND(x1, x2):\n",
        "    weights = np.array([1, 1])  # Weights for AND function\n",
        "    threshold = 2  # Activation threshold\n",
        "    weighted_sum = x1 * weights[0] + x2 * weights[1]\n",
        "    output = 1 if weighted_sum >= threshold else 0\n",
        "    return output\n"
      ],
      "metadata": {
        "id": "zxNKxxBzWpP1"
      },
      "execution_count": 2,
      "outputs": []
    },
    {
      "cell_type": "code",
      "source": [
        "def mcCulloch_pitts_OR(x1, x2):\n",
        "    weights = np.array([1, 1])  # Weights for OR function\n",
        "    threshold = 1  # Activation threshold\n",
        "    weighted_sum = x1 * weights[0] + x2 * weights[1]\n",
        "    output = 1 if weighted_sum >= threshold else 0\n",
        "    return output\n"
      ],
      "metadata": {
        "id": "Xg_-gwVIWq5i"
      },
      "execution_count": 3,
      "outputs": []
    },
    {
      "cell_type": "code",
      "source": [
        "def mcCulloch_pitts_ANDNOT(x1, x2):\n",
        "    weights = np.array([1, -1])  # Weights for ANDNOT function\n",
        "    threshold = 1  # Activation threshold\n",
        "    weighted_sum = x1 * weights[0] + x2 * weights[1]\n",
        "    output = 1 if weighted_sum >= threshold else 0\n",
        "    return output\n",
        "\n"
      ],
      "metadata": {
        "id": "VE0JBCf0WszC"
      },
      "execution_count": 4,
      "outputs": []
    },
    {
      "cell_type": "code",
      "source": [
        "print(\"x1 x2 | AND(x1, x2) | OR(x1, x2) | ANDNOT(x1, x2)\")\n",
        "print(\"-----------------------------------------------\")\n",
        "for x1 in [0, 1]:\n",
        "    for x2 in [0, 1]:\n",
        "        print(f\"{x1}  {x2}  |     {mcCulloch_pitts_AND(x1, x2)}     |     {mcCulloch_pitts_OR(x1, x2)}    |      {mcCulloch_pitts_ANDNOT(x1, x2)}\")\n"
      ],
      "metadata": {
        "colab": {
          "base_uri": "https://localhost:8080/"
        },
        "id": "FCVB__IQWzFy",
        "outputId": "66a2c902-c140-4c92-a0e5-41fb23024508"
      },
      "execution_count": 5,
      "outputs": [
        {
          "output_type": "stream",
          "name": "stdout",
          "text": [
            "x1 x2 | AND(x1, x2) | OR(x1, x2) | ANDNOT(x1, x2)\n",
            "-----------------------------------------------\n",
            "0  0  |     0     |     0    |      0\n",
            "0  1  |     0     |     1    |      0\n",
            "1  0  |     0     |     1    |      1\n",
            "1  1  |     1     |     1    |      0\n"
          ]
        }
      ]
    },
    {
      "cell_type": "code",
      "source": [],
      "metadata": {
        "id": "-QPQYzvMWzdc"
      },
      "execution_count": null,
      "outputs": []
    }
  ]
}