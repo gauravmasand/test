{
  "cells": [
    {
      "cell_type": "markdown",
      "metadata": {
        "colab_type": "text",
        "id": "view-in-github"
      },
      "source": [
        "<a href=\"https://colab.research.google.com/github/Sreys10/ann/blob/main/02.ipynb\" target=\"_parent\"><img src=\"https://colab.research.google.com/assets/colab-badge.svg\" alt=\"Open In Colab\"/></a>"
      ]
    },
    {
      "cell_type": "code",
      "execution_count": null,
      "metadata": {
        "id": "k97yiUYTWkEh"
      },
      "outputs": [],
      "source": [
        "# Practical 2: Generate ANDNOT function using McCulloch-Pitts neural net by a python program.\n",
        "import numpy as np\n"
      ]
    },
    {
      "cell_type": "code",
      "execution_count": 2,
      "metadata": {
        "id": "zxNKxxBzWpP1"
      },
      "outputs": [],
      "source": [
        "def mcCulloch_pitts_AND(x1, x2):\n",
        "    weights = np.array([1, 1])  # Weights for AND function\n",
        "    threshold = 2  # Activation threshold\n",
        "    weighted_sum = x1 * weights[0] + x2 * weights[1]\n",
        "    output = 1 if weighted_sum >= threshold else 0\n",
        "    return output\n"
      ]
    },
    {
      "cell_type": "code",
      "execution_count": 3,
      "metadata": {
        "id": "Xg_-gwVIWq5i"
      },
      "outputs": [],
      "source": [
        "def mcCulloch_pitts_OR(x1, x2):\n",
        "    weights = np.array([1, 1])  # Weights for OR function\n",
        "    threshold = 1  # Activation threshold\n",
        "    weighted_sum = x1 * weights[0] + x2 * weights[1]\n",
        "    output = 1 if weighted_sum >= threshold else 0\n",
        "    return output\n"
      ]
    },
    {
      "cell_type": "code",
      "execution_count": 4,
      "metadata": {
        "id": "VE0JBCf0WszC"
      },
      "outputs": [],
      "source": [
        "def mcCulloch_pitts_ANDNOT(x1, x2):\n",
        "    weights = np.array([1, -1])  # Weights for ANDNOT function\n",
        "    threshold = 1  # Activation threshold\n",
        "    weighted_sum = x1 * weights[0] + x2 * weights[1]\n",
        "    output = 1 if weighted_sum >= threshold else 0\n",
        "    return output\n",
        "\n"
      ]
    },
    {
      "cell_type": "code",
      "execution_count": 5,
      "metadata": {
        "colab": {
          "base_uri": "https://localhost:8080/"
        },
        "id": "FCVB__IQWzFy",
        "outputId": "66a2c902-c140-4c92-a0e5-41fb23024508"
      },
      "outputs": [
        {
          "name": "stdout",
          "output_type": "stream",
          "text": [
            "x1 x2 | AND(x1, x2) | OR(x1, x2) | ANDNOT(x1, x2)\n",
            "-----------------------------------------------\n",
            "0  0  |     0     |     0    |      0\n",
            "0  1  |     0     |     1    |      0\n",
            "1  0  |     0     |     1    |      1\n",
            "1  1  |     1     |     1    |      0\n"
          ]
        }
      ],
      "source": [
        "print(\"x1 x2 | AND(x1, x2) | OR(x1, x2) | ANDNOT(x1, x2)\")\n",
        "print(\"-----------------------------------------------\")\n",
        "for x1 in [0, 1]:\n",
        "    for x2 in [0, 1]:\n",
        "        print(f\"{x1}  {x2}  |     {mcCulloch_pitts_AND(x1, x2)}     |     {mcCulloch_pitts_OR(x1, x2)}    |      {mcCulloch_pitts_ANDNOT(x1, x2)}\")\n"
      ]
    },
    {
      "cell_type": "code",
      "execution_count": null,
      "metadata": {
        "id": "-QPQYzvMWzdc"
      },
      "outputs": [],
      "source": []
    }
  ],
  "metadata": {
    "colab": {
      "authorship_tag": "ABX9TyPtgTbGWA8TH6FjIf2ao0kE",
      "include_colab_link": true,
      "provenance": []
    },
    "kernelspec": {
      "display_name": "Python 3",
      "name": "python3"
    },
    "language_info": {
      "name": "python"
    }
  },
  "nbformat": 4,
  "nbformat_minor": 0
}
