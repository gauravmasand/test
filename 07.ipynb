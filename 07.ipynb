{
  "cells": [
    {
      "cell_type": "code",
      "execution_count": null,
      "metadata": {
        "id": "6VSmY6BVkNWC"
      },
      "outputs": [],
      "source": [
        "# Practical 7: Write a python program to show Back Propagation Network for XOR function with Binary Input and Output\n",
        "import numpy as np"
      ]
    },
    {
      "cell_type": "code",
      "execution_count": null,
      "metadata": {
        "id": "SlqqbnnZkSdn"
      },
      "outputs": [],
      "source": [
        "# Sigmoid activation and its derivative\n",
        "def sigmoid(x):\n",
        "    return 1 / (1 + np.exp(-x))\n",
        "\n",
        "def sigmoid_derivative(x):\n",
        "    return x * (1 - x)"
      ]
    },
    {
      "cell_type": "code",
      "execution_count": null,
      "metadata": {
        "id": "98Hs_komkUA4"
      },
      "outputs": [],
      "source": [
        "# XOR input and output\n",
        "# Inputs: 4 combinations of 2 binary inputs\n",
        "X = np.array([\n",
        "    [0, 0],\n",
        "    [0, 1],\n",
        "    [1, 0],\n",
        "    [1, 1]\n",
        "])\n",
        "\n",
        "# Output: XOR results\n",
        "# 0 ⊕ 0 = 0\n",
        "# 0 ⊕ 1 = 1\n",
        "# 1 ⊕ 0 = 1\n",
        "# 1 ⊕ 1 = 0\n",
        "y = np.array([[0], [1], [1], [0]])"
      ]
    },
    {
      "cell_type": "code",
      "execution_count": null,
      "metadata": {
        "id": "0dFwYcTTkW7J"
      },
      "outputs": [],
      "source": [
        "# Seed for reproducibility\n",
        "np.random.seed(42)"
      ]
    },
    {
      "cell_type": "code",
      "execution_count": null,
      "metadata": {
        "id": "sfvmmXn4kYzZ"
      },
      "outputs": [],
      "source": [
        "# Network architecture\n",
        "input_layer_neurons = 2\n",
        "hidden_layer_neurons = 2\n",
        "output_neurons = 1\n"
      ]
    },
    {
      "cell_type": "code",
      "execution_count": null,
      "metadata": {
        "id": "_fB7fbxskaXg"
      },
      "outputs": [],
      "source": [
        "# Random weights and bias initialization\n",
        "wh = np.random.uniform(size=(input_layer_neurons, hidden_layer_neurons))\n",
        "bh = np.random.uniform(size=(1, hidden_layer_neurons))\n",
        "wo = np.random.uniform(size=(hidden_layer_neurons, output_neurons))\n",
        "bo = np.random.uniform(size=(1, output_neurons))"
      ]
    },
    {
      "cell_type": "code",
      "execution_count": null,
      "metadata": {
        "id": "8TItCIV4kcH3"
      },
      "outputs": [],
      "source": [
        "# Training algorithm\n",
        "epochs = 100\n",
        "lr = 0.1  # learning rate"
      ]
    },
    {
      "cell_type": "code",
      "execution_count": null,
      "metadata": {
        "colab": {
          "base_uri": "https://localhost:8080/"
        },
        "id": "WTk7afuxkeQX",
        "outputId": "f04fec84-e847-4a71-e03f-df47ce7e57a3"
      },
      "outputs": [
        {
          "name": "stdout",
          "output_type": "stream",
          "text": [
            "Epoch 0, Loss: 0.0005373448621307079\n",
            "Epoch 1, Loss: 0.0005373228463382441\n",
            "Epoch 2, Loss: 0.0005373008323023121\n",
            "Epoch 3, Loss: 0.0005372788200227128\n",
            "Epoch 4, Loss: 0.0005372568094992278\n",
            "Epoch 5, Loss: 0.0005372348007316567\n",
            "Epoch 6, Loss: 0.0005372127937197928\n",
            "Epoch 7, Loss: 0.0005371907884634243\n",
            "Epoch 8, Loss: 0.000537168784962347\n",
            "Epoch 9, Loss: 0.0005371467832163535\n",
            "Epoch 10, Loss: 0.0005371247832252337\n",
            "Epoch 11, Loss: 0.0005371027849887817\n",
            "Epoch 12, Loss: 0.0005370807885067904\n",
            "Epoch 13, Loss: 0.0005370587937790558\n",
            "Epoch 14, Loss: 0.0005370368008053618\n",
            "Epoch 15, Loss: 0.0005370148095855109\n",
            "Epoch 16, Loss: 0.0005369928201192932\n",
            "Epoch 17, Loss: 0.0005369708324064992\n",
            "Epoch 18, Loss: 0.0005369488464469246\n",
            "Epoch 19, Loss: 0.0005369268622403606\n",
            "Epoch 20, Loss: 0.0005369048797865994\n",
            "Epoch 21, Loss: 0.0005368828990854386\n",
            "Epoch 22, Loss: 0.0005368609201366675\n",
            "Epoch 23, Loss: 0.0005368389429400795\n",
            "Epoch 24, Loss: 0.0005368169674954673\n",
            "Epoch 25, Loss: 0.0005367949938026253\n",
            "Epoch 26, Loss: 0.0005367730218613482\n",
            "Epoch 27, Loss: 0.0005367510516714286\n",
            "Epoch 28, Loss: 0.0005367290832326563\n",
            "Epoch 29, Loss: 0.0005367071165448274\n",
            "Epoch 30, Loss: 0.0005366851516077342\n",
            "Epoch 31, Loss: 0.0005366631884211749\n",
            "Epoch 32, Loss: 0.0005366412269849353\n",
            "Epoch 33, Loss: 0.0005366192672988132\n",
            "Epoch 34, Loss: 0.0005365973093626013\n",
            "Epoch 35, Loss: 0.0005365753531760939\n",
            "Epoch 36, Loss: 0.0005365533987390844\n",
            "Epoch 37, Loss: 0.0005365314460513632\n",
            "Epoch 38, Loss: 0.0005365094951127281\n",
            "Epoch 39, Loss: 0.000536487545922972\n",
            "Epoch 40, Loss: 0.0005364655984818886\n",
            "Epoch 41, Loss: 0.0005364436527892672\n",
            "Epoch 42, Loss: 0.0005364217088449066\n",
            "Epoch 43, Loss: 0.0005363997666485992\n",
            "Epoch 44, Loss: 0.0005363778262001395\n",
            "Epoch 45, Loss: 0.0005363558874993209\n",
            "Epoch 46, Loss: 0.000536333950545937\n",
            "Epoch 47, Loss: 0.0005363120153397782\n",
            "Epoch 48, Loss: 0.0005362900818806473\n",
            "Epoch 49, Loss: 0.0005362681501683308\n",
            "Epoch 50, Loss: 0.0005362462202026241\n",
            "Epoch 51, Loss: 0.0005362242919833224\n",
            "Epoch 52, Loss: 0.0005362023655102193\n",
            "Epoch 53, Loss: 0.0005361804407831085\n",
            "Epoch 54, Loss: 0.0005361585178017851\n",
            "Epoch 55, Loss: 0.000536136596566041\n",
            "Epoch 56, Loss: 0.0005361146770756733\n",
            "Epoch 57, Loss: 0.0005360927593304744\n",
            "Epoch 58, Loss: 0.0005360708433302401\n",
            "Epoch 59, Loss: 0.0005360489290747628\n",
            "Epoch 60, Loss: 0.0005360270165638405\n",
            "Epoch 61, Loss: 0.0005360051057972613\n",
            "Epoch 62, Loss: 0.0005359831967748255\n",
            "Epoch 63, Loss: 0.0005359612894963249\n",
            "Epoch 64, Loss: 0.0005359393839615511\n",
            "Epoch 65, Loss: 0.0005359174801703049\n",
            "Epoch 66, Loss: 0.0005358955781223777\n",
            "Epoch 67, Loss: 0.0005358736778175625\n",
            "Epoch 68, Loss: 0.0005358517792556583\n",
            "Epoch 69, Loss: 0.0005358298824364549\n",
            "Epoch 70, Loss: 0.0005358079873597474\n",
            "Epoch 71, Loss: 0.0005357860940253335\n",
            "Epoch 72, Loss: 0.0005357642024330051\n",
            "Epoch 73, Loss: 0.0005357423125825618\n",
            "Epoch 74, Loss: 0.0005357204244737919\n",
            "Epoch 75, Loss: 0.0005356985381064947\n",
            "Epoch 76, Loss: 0.0005356766534804582\n",
            "Epoch 77, Loss: 0.0005356547705954848\n",
            "Epoch 78, Loss: 0.0005356328894513722\n",
            "Epoch 79, Loss: 0.0005356110100479046\n",
            "Epoch 80, Loss: 0.0005355891323848842\n",
            "Epoch 81, Loss: 0.000535567256462107\n",
            "Epoch 82, Loss: 0.0005355453822793621\n",
            "Epoch 83, Loss: 0.0005355235098364487\n",
            "Epoch 84, Loss: 0.0005355016391331624\n",
            "Epoch 85, Loss: 0.0005354797701692947\n",
            "Epoch 86, Loss: 0.0005354579029446447\n",
            "Epoch 87, Loss: 0.000535436037459005\n",
            "Epoch 88, Loss: 0.0005354141737121702\n",
            "Epoch 89, Loss: 0.0005353923117039393\n",
            "Epoch 90, Loss: 0.0005353704514341059\n",
            "Epoch 91, Loss: 0.0005353485929024643\n",
            "Epoch 92, Loss: 0.0005353267361088088\n",
            "Epoch 93, Loss: 0.0005353048810529371\n",
            "Epoch 94, Loss: 0.0005352830277346416\n",
            "Epoch 95, Loss: 0.0005352611761537256\n",
            "Epoch 96, Loss: 0.000535239326309974\n",
            "Epoch 97, Loss: 0.0005352174782031907\n",
            "Epoch 98, Loss: 0.0005351956318331675\n",
            "Epoch 99, Loss: 0.0005351737871996966\n"
          ]
        }
      ],
      "source": [
        "for epoch in range(epochs):\n",
        "    # Forward pass\n",
        "    hidden_input = np.dot(X, wh) + bh\n",
        "    hidden_output = sigmoid(hidden_input)\n",
        "\n",
        "    final_input = np.dot(hidden_output, wo) + bo\n",
        "    final_output = sigmoid(final_input)\n",
        "\n",
        "    # Error computation\n",
        "    error = y - final_output\n",
        "\n",
        "    # Backpropagation\n",
        "    d_output = error * sigmoid_derivative(final_output)\n",
        "\n",
        "    error_hidden = d_output.dot(wo.T)\n",
        "    d_hidden = error_hidden * sigmoid_derivative(hidden_output)\n",
        "\n",
        "    # Update weights and biases\n",
        "    wo += hidden_output.T.dot(d_output) * lr\n",
        "    bo += np.sum(d_output, axis=0, keepdims=True) * lr\n",
        "    wh += X.T.dot(d_hidden) * lr\n",
        "    bh += np.sum(d_hidden, axis=0, keepdims=True) * lr\n",
        "\n",
        "    if epoch % 1 == 0:\n",
        "        loss = np.mean(np.square(error))\n",
        "        print(f\"Epoch {epoch}, Loss: {loss}\")"
      ]
    },
    {
      "cell_type": "code",
      "execution_count": null,
      "metadata": {
        "colab": {
          "base_uri": "https://localhost:8080/"
        },
        "id": "5Ajh5axXkh2M",
        "outputId": "e6a427ea-2870-4a71-956f-f9e4d0723b07"
      },
      "outputs": [
        {
          "name": "stdout",
          "output_type": "stream",
          "text": [
            "Final Output after Training:\n",
            "[[0.]\n",
            " [1.]\n",
            " [1.]\n",
            " [0.]]\n"
          ]
        }
      ],
      "source": [
        "# Final prediction after training\n",
        "print(\"Final Output after Training:\")\n",
        "print(np.round(final_output))"
      ]
    },
    {
      "cell_type": "code",
      "execution_count": null,
      "metadata": {
        "id": "wjRJns7akjyQ"
      },
      "outputs": [],
      "source": []
    }
  ],
  "metadata": {
    "colab": {
      "provenance": []
    },
    "kernelspec": {
      "display_name": "Python 3",
      "name": "python3"
    },
    "language_info": {
      "name": "python"
    }
  },
  "nbformat": 4,
  "nbformat_minor": 0
}
