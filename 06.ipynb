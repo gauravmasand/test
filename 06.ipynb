{
  "nbformat": 4,
  "nbformat_minor": 0,
  "metadata": {
    "colab": {
      "provenance": []
    },
    "kernelspec": {
      "name": "python3",
      "display_name": "Python 3"
    },
    "language_info": {
      "name": "python"
    }
  },
  "cells": [
    {
      "cell_type": "code",
      "execution_count": null,
      "metadata": {
        "id": "WrPZG55Ie_Z7"
      },
      "outputs": [],
      "source": [
        "import numpy as np"
      ]
    },
    {
      "cell_type": "code",
      "source": [
        "def sigmoid(x):\n",
        "    return 1 / (1 + np.exp(-x))"
      ],
      "metadata": {
        "id": "JSUB4HRRfJGW"
      },
      "execution_count": null,
      "outputs": []
    },
    {
      "cell_type": "code",
      "source": [
        "def sigmoid_derivative(x):\n",
        "    return x * (1 - x)"
      ],
      "metadata": {
        "id": "d6TSluKefLMo"
      },
      "execution_count": null,
      "outputs": []
    },
    {
      "cell_type": "code",
      "source": [
        "# Training data (AND function)\n",
        "X = np.array([[0, 0],\n",
        "              [0, 1],\n",
        "              [1, 0],\n",
        "              [1, 1]])\n",
        "\n",
        "y = np.array([[0], [0], [0], [1]])  # AND gate output"
      ],
      "metadata": {
        "id": "cLQw945nfNch"
      },
      "execution_count": null,
      "outputs": []
    },
    {
      "cell_type": "code",
      "source": [
        "# Initialize weights and biases\n",
        "np.random.seed(1)\n",
        "input_neurons = 2\n",
        "hidden_neurons = 2\n",
        "output_neurons = 1"
      ],
      "metadata": {
        "id": "LGBvBKm6fP8j"
      },
      "execution_count": null,
      "outputs": []
    },
    {
      "cell_type": "code",
      "source": [
        "\n",
        "# Weights\n",
        "w_input_hidden = np.random.uniform(-1, 1, (input_neurons, hidden_neurons))\n",
        "w_hidden_output = np.random.uniform(-1, 1, (hidden_neurons, output_neurons))"
      ],
      "metadata": {
        "id": "hTwgEfIwfR74"
      },
      "execution_count": null,
      "outputs": []
    },
    {
      "cell_type": "code",
      "source": [
        "# Biases\n",
        "b_hidden = np.random.uniform(-1, 1, (1, hidden_neurons))\n",
        "b_output = np.random.uniform(-1, 1, (1, output_neurons))"
      ],
      "metadata": {
        "id": "d827fTk_fUUR"
      },
      "execution_count": null,
      "outputs": []
    },
    {
      "cell_type": "code",
      "source": [
        "# Training loop\n",
        "epochs = 100\n",
        "learning_rate = 0.1"
      ],
      "metadata": {
        "id": "QGhNZdZNfWdS"
      },
      "execution_count": null,
      "outputs": []
    },
    {
      "cell_type": "code",
      "source": [
        "for epoch in range(epochs):\n",
        "    # --- Forward Propagation ---\n",
        "    hidden_input = np.dot(X, w_input_hidden) + b_hidden\n",
        "    hidden_output = sigmoid(hidden_input)\n",
        "\n",
        "    final_input = np.dot(hidden_output, w_hidden_output) + b_output\n",
        "    final_output = sigmoid(final_input)\n",
        "\n",
        "    # --- Backpropagation ---\n",
        "    error = y - final_output\n",
        "    d_output = error * sigmoid_derivative(final_output)\n",
        "\n",
        "    error_hidden = d_output.dot(w_hidden_output.T)\n",
        "    d_hidden = error_hidden * sigmoid_derivative(hidden_output)\n",
        "\n",
        "    # --- Update Weights and Biases ---\n",
        "    w_hidden_output += hidden_output.T.dot(d_output) * learning_rate\n",
        "    b_output += np.sum(d_output, axis=0, keepdims=True) * learning_rate\n",
        "\n",
        "    w_input_hidden += X.T.dot(d_hidden) * learning_rate\n",
        "    b_hidden += np.sum(d_hidden, axis=0, keepdims=True) * learning_rate\n",
        "\n",
        "    # Optional: Print loss every 1000 epochs\n",
        "    if epoch % 1 == 0:\n",
        "        loss = np.mean(np.square(error))\n",
        "        print(f\"Epoch {epoch} Loss: {loss:.4f}\")"
      ],
      "metadata": {
        "colab": {
          "base_uri": "https://localhost:8080/"
        },
        "id": "_PU4woeHfYkP",
        "outputId": "1cfdae7a-b33e-4472-d6c6-5e20552809ec"
      },
      "execution_count": null,
      "outputs": [
        {
          "output_type": "stream",
          "name": "stdout",
          "text": [
            "Epoch 0 Loss: 0.0004\n",
            "Epoch 1 Loss: 0.0004\n",
            "Epoch 2 Loss: 0.0004\n",
            "Epoch 3 Loss: 0.0004\n",
            "Epoch 4 Loss: 0.0004\n",
            "Epoch 5 Loss: 0.0004\n",
            "Epoch 6 Loss: 0.0004\n",
            "Epoch 7 Loss: 0.0004\n",
            "Epoch 8 Loss: 0.0004\n",
            "Epoch 9 Loss: 0.0004\n",
            "Epoch 10 Loss: 0.0004\n",
            "Epoch 11 Loss: 0.0004\n",
            "Epoch 12 Loss: 0.0004\n",
            "Epoch 13 Loss: 0.0004\n",
            "Epoch 14 Loss: 0.0004\n",
            "Epoch 15 Loss: 0.0004\n",
            "Epoch 16 Loss: 0.0004\n",
            "Epoch 17 Loss: 0.0004\n",
            "Epoch 18 Loss: 0.0004\n",
            "Epoch 19 Loss: 0.0004\n",
            "Epoch 20 Loss: 0.0004\n",
            "Epoch 21 Loss: 0.0004\n",
            "Epoch 22 Loss: 0.0004\n",
            "Epoch 23 Loss: 0.0004\n",
            "Epoch 24 Loss: 0.0004\n",
            "Epoch 25 Loss: 0.0004\n",
            "Epoch 26 Loss: 0.0004\n",
            "Epoch 27 Loss: 0.0004\n",
            "Epoch 28 Loss: 0.0004\n",
            "Epoch 29 Loss: 0.0004\n",
            "Epoch 30 Loss: 0.0004\n",
            "Epoch 31 Loss: 0.0004\n",
            "Epoch 32 Loss: 0.0004\n",
            "Epoch 33 Loss: 0.0004\n",
            "Epoch 34 Loss: 0.0004\n",
            "Epoch 35 Loss: 0.0004\n",
            "Epoch 36 Loss: 0.0004\n",
            "Epoch 37 Loss: 0.0004\n",
            "Epoch 38 Loss: 0.0004\n",
            "Epoch 39 Loss: 0.0004\n",
            "Epoch 40 Loss: 0.0004\n",
            "Epoch 41 Loss: 0.0004\n",
            "Epoch 42 Loss: 0.0004\n",
            "Epoch 43 Loss: 0.0004\n",
            "Epoch 44 Loss: 0.0004\n",
            "Epoch 45 Loss: 0.0004\n",
            "Epoch 46 Loss: 0.0004\n",
            "Epoch 47 Loss: 0.0004\n",
            "Epoch 48 Loss: 0.0004\n",
            "Epoch 49 Loss: 0.0004\n",
            "Epoch 50 Loss: 0.0004\n",
            "Epoch 51 Loss: 0.0004\n",
            "Epoch 52 Loss: 0.0004\n",
            "Epoch 53 Loss: 0.0004\n",
            "Epoch 54 Loss: 0.0004\n",
            "Epoch 55 Loss: 0.0004\n",
            "Epoch 56 Loss: 0.0004\n",
            "Epoch 57 Loss: 0.0004\n",
            "Epoch 58 Loss: 0.0004\n",
            "Epoch 59 Loss: 0.0004\n",
            "Epoch 60 Loss: 0.0004\n",
            "Epoch 61 Loss: 0.0004\n",
            "Epoch 62 Loss: 0.0004\n",
            "Epoch 63 Loss: 0.0004\n",
            "Epoch 64 Loss: 0.0004\n",
            "Epoch 65 Loss: 0.0004\n",
            "Epoch 66 Loss: 0.0004\n",
            "Epoch 67 Loss: 0.0004\n",
            "Epoch 68 Loss: 0.0004\n",
            "Epoch 69 Loss: 0.0004\n",
            "Epoch 70 Loss: 0.0004\n",
            "Epoch 71 Loss: 0.0004\n",
            "Epoch 72 Loss: 0.0004\n",
            "Epoch 73 Loss: 0.0004\n",
            "Epoch 74 Loss: 0.0004\n",
            "Epoch 75 Loss: 0.0004\n",
            "Epoch 76 Loss: 0.0004\n",
            "Epoch 77 Loss: 0.0004\n",
            "Epoch 78 Loss: 0.0004\n",
            "Epoch 79 Loss: 0.0004\n",
            "Epoch 80 Loss: 0.0004\n",
            "Epoch 81 Loss: 0.0004\n",
            "Epoch 82 Loss: 0.0004\n",
            "Epoch 83 Loss: 0.0004\n",
            "Epoch 84 Loss: 0.0004\n",
            "Epoch 85 Loss: 0.0004\n",
            "Epoch 86 Loss: 0.0004\n",
            "Epoch 87 Loss: 0.0004\n",
            "Epoch 88 Loss: 0.0004\n",
            "Epoch 89 Loss: 0.0004\n",
            "Epoch 90 Loss: 0.0004\n",
            "Epoch 91 Loss: 0.0004\n",
            "Epoch 92 Loss: 0.0004\n",
            "Epoch 93 Loss: 0.0004\n",
            "Epoch 94 Loss: 0.0004\n",
            "Epoch 95 Loss: 0.0004\n",
            "Epoch 96 Loss: 0.0004\n",
            "Epoch 97 Loss: 0.0004\n",
            "Epoch 98 Loss: 0.0004\n",
            "Epoch 99 Loss: 0.0004\n"
          ]
        }
      ]
    },
    {
      "cell_type": "code",
      "source": [
        "# Final output\n",
        "print(\"\\nFinal predictions after training:\")\n",
        "print(final_output.round(3))"
      ],
      "metadata": {
        "colab": {
          "base_uri": "https://localhost:8080/"
        },
        "id": "Z03m8TWmfe5q",
        "outputId": "42bf30f8-e96c-475b-de84-81d0b0335ef5"
      },
      "execution_count": null,
      "outputs": [
        {
          "output_type": "stream",
          "name": "stdout",
          "text": [
            "\n",
            "Final predictions after training:\n",
            "[[0.001]\n",
            " [0.027]\n",
            " [0.027]\n",
            " [0.953]]\n"
          ]
        }
      ]
    },
    {
      "cell_type": "code",
      "source": [],
      "metadata": {
        "id": "DJDvBuNvfiZx"
      },
      "execution_count": null,
      "outputs": []
    }
  ]
}